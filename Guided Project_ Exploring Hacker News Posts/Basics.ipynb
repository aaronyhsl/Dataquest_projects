{
 "cells": [
  {
   "cell_type": "markdown",
   "metadata": {
    "collapsed": true
   },
   "source": [
    "# Hacker News Posts - What and When to post to have the most comments. \n",
    "\n",
    "## Objective \n",
    "\n",
    "In this project, we are going to analyse **what** and **when** to post on Hacker News site can get us the most comments. We will focus on the most common types of posts (**Ask HN** and **Show HN**).\n",
    "\n",
    "The **dataset** can be found on [here](https://www.kaggle.com/hacker-news/hacker-news-posts) (Kaggle).\n",
    "\n",
    "### Below are the column desctiption:\n",
    "- `id` : The unique identifier from Hacker News for the post\n",
    "- `column` : The title of the post\n",
    "- `url` : The URL that the posts link to, if the post has one\n",
    "- `num_points` : The number of points the post acquired, calculated as the total number of upvotes minus the total number of downvotes\n",
    "- `num_comments` : The number of comments that were made on the post\n",
    "- `author` : The username of the person who submitted the post\n",
    "- `created_at` : The date and time at which the post was submitted"
   ]
  },
  {
   "cell_type": "markdown",
   "metadata": {},
   "source": [
    "## Import the data"
   ]
  },
  {
   "cell_type": "code",
   "execution_count": 1,
   "metadata": {},
   "outputs": [
    {
     "name": "stdout",
     "output_type": "stream",
     "text": [
      "['id', 'title', 'url', 'num_points', 'num_comments', 'author', 'created_at']\n",
      "\n",
      "\n",
      "[['12224879', 'Interactive Dynamic Video', 'http://www.interactivedynamicvideo.com/', '386', '52', 'ne0phyte', '8/4/2016 11:52'], ['10975351', 'How to Use Open Source and Shut the Fuck Up at the Same Time', 'http://hueniverse.com/2016/01/26/how-to-use-open-source-and-shut-the-fuck-up-at-the-same-time/', '39', '10', 'josep2', '1/26/2016 19:30'], ['11964716', \"Florida DJs May Face Felony for April Fools' Water Joke\", 'http://www.thewire.com/entertainment/2013/04/florida-djs-april-fools-water-joke/63798/', '2', '1', 'vezycash', '6/23/2016 22:20'], ['11919867', 'Technology ventures: From Idea to Enterprise', 'https://www.amazon.com/Technology-Ventures-Enterprise-Thomas-Byers/dp/0073523429', '3', '1', 'hswarna', '6/17/2016 0:01'], ['10301696', 'Note by Note: The Making of Steinway L1037 (2007)', 'http://www.nytimes.com/2007/11/07/movies/07stein.html?_r=0', '8', '2', 'walterbell', '9/30/2015 4:12']]\n"
     ]
    }
   ],
   "source": [
    "from csv import reader\n",
    "open_file = open('hacker_news.csv')\n",
    "read_file = reader(open_file)\n",
    "hn = list(read_file)\n",
    "headers = hn[0]\n",
    "hn = hn[1:]\n",
    "\n",
    "print(headers)\n",
    "print('\\n')\n",
    "print(hn[:5])"
   ]
  },
  {
   "cell_type": "markdown",
   "metadata": {},
   "source": [
    "## Prepare the data\n",
    "\n",
    "As we only focus on the title starts as **Ask HN** or **Show HN**, we first have to seperate these two categories as two independent list. "
   ]
  },
  {
   "cell_type": "code",
   "execution_count": 2,
   "metadata": {
    "scrolled": true
   },
   "outputs": [
    {
     "name": "stdout",
     "output_type": "stream",
     "text": [
      "There are 1744 of posts for Ask-HN\n",
      "There are 1162 of posts for Show-HN\n",
      "There are 17194 of posts for others\n"
     ]
    }
   ],
   "source": [
    "ask_posts = []\n",
    "show_posts = []\n",
    "other_posts = []\n",
    "\n",
    "for row in hn:\n",
    "    title = row[1]\n",
    "    title = title.lower()\n",
    "    \n",
    "    if title.startswith('ask hn'):\n",
    "        ask_posts.append(row)\n",
    "    elif title.startswith('show hn'):\n",
    "        show_posts.append(row)\n",
    "    else:\n",
    "        other_posts.append(row)\n",
    "\n",
    "print('There are {} of posts for Ask-HN'.format(len(ask_posts)))\n",
    "print('There are {} of posts for Show-HN'.format(len(show_posts)))\n",
    "print('There are {} of posts for others'.format(len(other_posts)))"
   ]
  },
  {
   "cell_type": "markdown",
   "metadata": {},
   "source": [
    "## Comparing the selected posts\n",
    "\n",
    "After extracting this two lists, we want to see which one has better interest among viewers. "
   ]
  },
  {
   "cell_type": "code",
   "execution_count": 28,
   "metadata": {},
   "outputs": [
    {
     "name": "stdout",
     "output_type": "stream",
     "text": [
      "There are 14.04 comments per Ask-HN posts\n",
      "There are 10.32 comments per Show-HN posts\n"
     ]
    }
   ],
   "source": [
    "# Count the comments on average for ask_posts\n",
    "total_ask_comments = 0\n",
    "for post in ask_posts:\n",
    "    num_comments = int(post[4])\n",
    "    total_ask_comments += num_comments\n",
    "\n",
    "avg_ask_comments = total_ask_comments / len(ask_posts)\n",
    "print('There are {:.2f} comments per Ask-HN posts'.format(avg_ask_comments))\n",
    "\n",
    "# Count the comments on average for show_posts\n",
    "total_post_comments = 0\n",
    "for post in show_posts:\n",
    "    num_comments = int(post[4])\n",
    "    total_post_comments += num_comments\n",
    "\n",
    "avg_show_comments = total_post_comments / len(show_posts)\n",
    "print('There are {:.2f} comments per Show-HN posts'.format(avg_show_comments))"
   ]
  },
  {
   "cell_type": "markdown",
   "metadata": {},
   "source": [
    "### Comparing the selected posts - Conclusion\n",
    "On average, **Ask HN** receive more comments than **Show HN** posts. Therefore, We are going to analyse **Ask HN** posts to see in what time of a day these posts receive the most comments."
   ]
  },
  {
   "cell_type": "markdown",
   "metadata": {},
   "source": [
    "## Determine when to post to have greater comments\n",
    "\n",
    "To do so, we are going to:\n",
    "1. Calculate how many of ask posts created per hour in a day, along with the number of comments given. \n",
    "2. Calculate the average number of comments **Ask HN** posts receive per hour."
   ]
  },
  {
   "cell_type": "markdown",
   "metadata": {},
   "source": [
    "### Caluating the posts created and the comments received by hour"
   ]
  },
  {
   "cell_type": "code",
   "execution_count": 5,
   "metadata": {},
   "outputs": [
    {
     "name": "stdout",
     "output_type": "stream",
     "text": [
      "{'09': 45, '13': 85, '10': 59, '14': 107, '16': 108, '23': 68, '12': 73, '17': 100, '15': 116, '21': 109, '20': 80, '02': 58, '18': 109, '03': 54, '05': 46, '19': 110, '01': 60, '22': 71, '08': 48, '04': 47, '00': 55, '06': 44, '07': 34, '11': 58}\n",
      "{'09': 251, '13': 1253, '10': 793, '14': 1416, '16': 1814, '23': 543, '12': 687, '17': 1146, '15': 4477, '21': 1745, '20': 1722, '02': 1381, '18': 1439, '03': 421, '05': 464, '19': 1188, '01': 683, '22': 479, '08': 492, '04': 337, '00': 447, '06': 397, '07': 267, '11': 641}\n",
      "\n",
      "\n",
      "There are 24 rows in counts_by_hour\n",
      "There are 24 rows in comments_by_hour\n"
     ]
    }
   ],
   "source": [
    "import datetime as dt\n",
    "\n",
    "result_list = []\n",
    "for post in ask_posts:\n",
    "    created_at = post[6]\n",
    "    num_comments = int(post[4])\n",
    "    new_list = [created_at, num_comments]\n",
    "    result_list.append(new_list)\n",
    "    \n",
    "counts_by_hour = {}\n",
    "comments_by_hour = {}\n",
    "for row in result_list:\n",
    "    time = row[0]\n",
    "    comments = int(row[1])\n",
    "    time_dt = dt.datetime.strptime(time, \"%m/%d/%Y %H:%M\")\n",
    "    time_hr = time_dt.strftime(\"%H\") \n",
    "    \n",
    "    if time_hr not in counts_by_hour:\n",
    "        counts_by_hour[time_hr] = 1\n",
    "        comments_by_hour[time_hr] = comments\n",
    "    else:\n",
    "        counts_by_hour[time_hr] += 1\n",
    "        comments_by_hour[time_hr] += comments\n",
    "    \n",
    "\n",
    "\n",
    "print(counts_by_hour)\n",
    "print(comments_by_hour)\n",
    "print('\\n')\n",
    "print('There are {} rows in counts_by_hour'.format(len(counts_by_hour)))\n",
    "print('There are {} rows in comments_by_hour'.format(len(comments_by_hour)))"
   ]
  },
  {
   "cell_type": "markdown",
   "metadata": {},
   "source": [
    "### Calculate the average comments received per hour"
   ]
  },
  {
   "cell_type": "code",
   "execution_count": 6,
   "metadata": {
    "scrolled": false
   },
   "outputs": [
    {
     "name": "stdout",
     "output_type": "stream",
     "text": [
      "[['09', 5.5777777777777775], ['13', 14.741176470588234], ['10', 13.440677966101696], ['14', 13.233644859813085], ['16', 16.796296296296298], ['23', 7.985294117647059], ['12', 9.41095890410959], ['17', 11.46], ['15', 38.5948275862069], ['21', 16.009174311926607], ['20', 21.525], ['02', 23.810344827586206], ['18', 13.20183486238532], ['03', 7.796296296296297], ['05', 10.08695652173913], ['19', 10.8], ['01', 11.383333333333333], ['22', 6.746478873239437], ['08', 10.25], ['04', 7.170212765957447], ['00', 8.127272727272727], ['06', 9.022727272727273], ['07', 7.852941176470588], ['11', 11.051724137931034]]\n"
     ]
    }
   ],
   "source": [
    "avg_by_hour = []\n",
    "for hour in counts_by_hour:\n",
    "    avg = comments_by_hour[hour] / counts_by_hour[hour]\n",
    "    avg_by_hour.append([hour, avg])\n",
    "\n",
    "print(avg_by_hour)\n",
    "  "
   ]
  },
  {
   "cell_type": "markdown",
   "metadata": {},
   "source": [
    "By our code, we already find out the average comments received in each hour of a day. But the data is not in order and it is not efficient if we have to find our what are the top 5 hours with greateer comments received. \n",
    "\n",
    "We have need to prepare the data again so the result becomes more clear for us. \n",
    "\n",
    "To to this, we have to:\n",
    "1. swap \"hour\" and \"average comments per hour\"\n",
    "2. sort the swap data recersely "
   ]
  },
  {
   "cell_type": "code",
   "execution_count": 11,
   "metadata": {},
   "outputs": [
    {
     "name": "stdout",
     "output_type": "stream",
     "text": [
      "[38.5948275862069, '15']\n",
      "[23.810344827586206, '02']\n",
      "[21.525, '20']\n",
      "[16.796296296296298, '16']\n",
      "[16.009174311926607, '21']\n",
      "[14.741176470588234, '13']\n",
      "[13.440677966101696, '10']\n",
      "[13.233644859813085, '14']\n",
      "[13.20183486238532, '18']\n",
      "[11.46, '17']\n",
      "[11.383333333333333, '01']\n",
      "[11.051724137931034, '11']\n",
      "[10.8, '19']\n",
      "[10.25, '08']\n",
      "[10.08695652173913, '05']\n",
      "[9.41095890410959, '12']\n",
      "[9.022727272727273, '06']\n",
      "[8.127272727272727, '00']\n",
      "[7.985294117647059, '23']\n",
      "[7.852941176470588, '07']\n",
      "[7.796296296296297, '03']\n",
      "[7.170212765957447, '04']\n",
      "[6.746478873239437, '22']\n",
      "[5.5777777777777775, '09']\n"
     ]
    }
   ],
   "source": [
    "swap_avg_by_hour = []\n",
    "for row in avg_by_hour:\n",
    "    swap_avg_by_hour.append([row[1], row[0]])\n",
    "    \n",
    "sorted_swap = sorted(swap_avg_by_hour, reverse=True) \n",
    "\n",
    "for row in sorted_swap:\n",
    "    print(row)"
   ]
  },
  {
   "cell_type": "markdown",
   "metadata": {},
   "source": [
    "### Idendifying the top 5 hours to post an Ask HN post"
   ]
  },
  {
   "cell_type": "code",
   "execution_count": 26,
   "metadata": {},
   "outputs": [
    {
     "name": "stdout",
     "output_type": "stream",
     "text": [
      "Top 5 Hour for Ask HN Posts Comments\n",
      "15:00: 38.59 average comments per post\n",
      "02:00: 23.81 average comments per post\n",
      "20:00: 21.52 average comments per post\n",
      "16:00: 16.80 average comments per post\n",
      "21:00: 16.01 average comments per post\n"
     ]
    }
   ],
   "source": [
    "print(\"Top 5 Hour for Ask HN Posts Comments\")\n",
    "\n",
    "for row in sorted_swap[:5]:\n",
    "    time_dt = dt.datetime.strptime(row[1], \"%H\")\n",
    "    time = time_dt.strftime(\"%H:%M\")\n",
    "    print(\"{time}: {comments:.2f} average comments per post\".format(time=time, comments=row[0]))"
   ]
  },
  {
   "cell_type": "markdown",
   "metadata": {},
   "source": [
    "## What and When to post - Conclusion\n",
    "\n",
    "After the analysis, we found that:\n",
    "1. **Ask HN** are more popular posts than **Show HN** posts\n",
    "2. If you want to get a great amount of comments, there are five time in a day that you should post: **15:00**, **02:00**, **20:00**, **16:00** and **21:00\"\".\n"
   ]
  },
  {
   "cell_type": "code",
   "execution_count": null,
   "metadata": {},
   "outputs": [],
   "source": []
  }
 ],
 "metadata": {
  "kernelspec": {
   "display_name": "Python 3",
   "language": "python",
   "name": "python3"
  },
  "language_info": {
   "codemirror_mode": {
    "name": "ipython",
    "version": 3
   },
   "file_extension": ".py",
   "mimetype": "text/x-python",
   "name": "python",
   "nbconvert_exporter": "python",
   "pygments_lexer": "ipython3",
   "version": "3.8.2"
  }
 },
 "nbformat": 4,
 "nbformat_minor": 2
}
